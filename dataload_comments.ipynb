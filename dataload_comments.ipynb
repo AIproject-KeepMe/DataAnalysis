{
 "cells": [
  {
   "cell_type": "code",
   "execution_count": 122,
   "metadata": {},
   "outputs": [],
   "source": [
    "import numpy as np\n",
    "import pandas as pd\n",
    "from sklearn.preprocessing import OneHotEncoder\n",
    "from sklearn.preprocessing import MinMaxScaler\n",
    "from sklearn.model_selection import train_test_split\n",
    "from matplotlib import pyplot as plt"
   ]
  },
  {
   "cell_type": "code",
   "execution_count": 123,
   "metadata": {},
   "outputs": [],
   "source": [
    "'''\n",
    "레이블링한 걸 딕셔너리로 정의했다.\n",
    "'''\n",
    "\n",
    "label_to_class = {\n",
    "    1  : 'WALKING',          \n",
    "    2  : 'WALKING_UPSTAIRS', \n",
    "    3  : 'WALKING_DOWNSTAIRS',\n",
    "    4  : 'SITTING',      \n",
    "    5  : 'STANDING',       \n",
    "    6  : 'LAYING',         \n",
    "    7  : 'STAND_TO_SIT',      \n",
    "    8  : 'SIT_TO_STAND',     \n",
    "    9  : 'SIT_TO_LIE',     \n",
    "    10 : 'LIE_TO_SIT',      \n",
    "    11 : 'STAND_TO_LIE',      \n",
    "    12 : 'FALLING',   \n",
    "    np.nan : np.nan\n",
    "}\n",
    "class_to_label = {\n",
    "    'WALKING' : 1,\n",
    "    'WALKING_UPSTAIRS' : 2,\n",
    "    'WALKING_DOWNSTAIRS' : 3,\n",
    "    'SITTING' : 4,\n",
    "    'STANDING' : 5,         \n",
    "    'LAYING' : 6,      \n",
    "    'STAND_TO_SIT' : 7,     \n",
    "    'SIT_TO_STAND' : 8,     \n",
    "    'SIT_TO_LIE' : 9,     \n",
    "    'LIE_TO_SIT' : 10,        \n",
    "    'STAND_TO_LIE' : 11,     \n",
    "    'FALLING' : 12,\n",
    "    np.nan : np.nan\n",
    "}"
   ]
  },
  {
   "cell_type": "code",
   "execution_count": 124,
   "metadata": {},
   "outputs": [],
   "source": [
    "activities = {\n",
    "    1  : 'WALKING',          \n",
    "    2  : 'WALKING_UPSTAIRS', \n",
    "    3  : 'WALKING_DOWNSTAIRS',\n",
    "    4  : 'SITTING',      \n",
    "    5  : 'STANDING',       \n",
    "    6  : 'LAYING',         \n",
    "    7  : 'STAND_TO_SIT',      \n",
    "    8  : 'SIT_TO_STAND',     \n",
    "    9  : 'SIT_TO_LIE',     \n",
    "    10 : 'LIE_TO_SIT',      \n",
    "    11 : 'STAND_TO_LIE',      \n",
    "    12 : 'FALLING', \n",
    " }"
   ]
  },
  {
   "cell_type": "code",
   "execution_count": 125,
   "metadata": {},
   "outputs": [],
   "source": [
    "def draw_bar(ydata):\n",
    "    print('Frequencies :- ',ydata.sum(axis = 0))\n",
    "\n",
    "\n",
    "    # 수열을 만들고 싶으면 np.arange(시작, 끝, 주기)\n",
    "    x = np.arange(1,len(ydata[0])+1,1);\n",
    "    y = ydata.sum(axis = 0)\n",
    "    \n",
    "    plt.figure(figsize = (12.8,3))\n",
    "    plt.xlabel('Class Label',fontdict = {'size' : 15})\n",
    "    plt.ylabel('Frequency',fontdict = {'size' : 15})\n",
    "    bar = plt.bar(x,y)\n",
    "    \n",
    "    for idx,rect in enumerate(bar):\n",
    "        plt.text(\n",
    "            rect.get_x()+rect.get_width()/2.0,\n",
    "            rect.get_height(),int(y[idx]),\n",
    "            ha = 'center',\n",
    "            va = 'bottom'\n",
    "        )\n",
    "        \n",
    "    plt.show()"
   ]
  },
  {
   "cell_type": "code",
   "execution_count": 127,
   "metadata": {},
   "outputs": [],
   "source": [
    "def draw_wave(xdata,ydata,activity_label):\n",
    "    \n",
    "    row = 0\n",
    "    while(ydata[row].argmax()+1 != activity_label) : row = row + 1;\n",
    "    \n",
    "    length   = xdata.shape[1]\n",
    "    sensor   = xdata.shape[2]\n",
    "    channel  = xdata.shape[3]\n",
    "    \n",
    "    x = np.linspace(0,(20)*(length-1)/1000,length)\n",
    "    \n",
    "    plt.figure(figsize = (12.8,2))\n",
    "    plt.plot(x,xdata[row,:,0,0])\n",
    "    plt.plot(x,xdata[row,:,0,1])\n",
    "    plt.plot(x,xdata[row,:,0,2])\n",
    "    plt.show()\n",
    "    \n",
    "    plt.figure(figsize = (12.8,2))\n",
    "    plt.plot(x,xdata[row,:,1,0])\n",
    "    plt.plot(x,xdata[row,:,1,1])\n",
    "    plt.plot(x,xdata[row,:,1,2])\n",
    "    plt.xlabel('Time in seconds :- ( Instance of ' + label_to_class[activity_label] + ' data )',fontdict = {'size' : 15})\n",
    "    plt.show()\n",
    "    "
   ]
  },
  {
   "cell_type": "code",
   "execution_count": 128,
   "metadata": {},
   "outputs": [],
   "source": [
    "def remove_null(xdata,ydata):\n",
    "    xdata = xdata[np.where(np.isfinite(ydata))]\n",
    "    ydata = ydata[np.where(np.isfinite(ydata))]\n",
    "    ydata = ydata[np.where(np.isfinite(xdata).all(axis = 1).all(axis = 1).all(axis = 1))]\n",
    "    xdata = xdata[np.where(np.isfinite(xdata).all(axis = 1).all(axis = 1).all(axis = 1))]\n",
    " \n",
    "    return xdata,ydata"
   ]
  },
  {
   "cell_type": "code",
   "execution_count": 129,
   "metadata": {},
   "outputs": [],
   "source": [
    "def get_scaler(xdata):\n",
    "    \n",
    "    row = xdata.shape[0]\n",
    "    timestamp = xdata.shape[1]\n",
    "    sensor = xdata.shape[2]\n",
    "    axis = xdata.shape[3]\n",
    "    \n",
    "    scaler = MinMaxScaler(feature_range = (-1,1))\n",
    "    xdata = xdata.reshape(row,timestamp,sensor*axis)\n",
    "    xdata = np.swapaxes(xdata,0,2).reshape(sensor*axis,-1).T\n",
    "    scaler.fit(xdata)\n",
    "    return scaler\n",
    "\n",
    "def scale_data(xdata, scaler):\n",
    "    \n",
    "    row = xdata.shape[0]\n",
    "    timestamp = xdata.shape[1]\n",
    "    sensor = xdata.shape[2]\n",
    "    axis = xdata.shape[3]\n",
    "    \n",
    "    xdata = xdata.reshape(row,timestamp,sensor*axis)\n",
    "    xdata = np.swapaxes(xdata,0,2).reshape(sensor*axis,-1).T\n",
    "    xdata = scaler.transform(xdata)\n",
    "    xdata = xdata.T.reshape(sensor*axis,timestamp,row)\n",
    "    xdata = np.swapaxes(xdata,0,2).reshape(row,timestamp,sensor,axis)\n",
    "    \n",
    "    return xdata"
   ]
  },
  {
   "cell_type": "code",
   "execution_count": 130,
   "metadata": {},
   "outputs": [],
   "source": [
    "'''\n",
    "acc.txt랑 gyro.txt 파일을 읽어서\n",
    "xtrain, ytrain을 만들고\n",
    "labels.txt 레코드의 끝에 갈 때까지\n",
    "labels.txt의 4번째 값을 더해준다.\n",
    "'''\n",
    "\n",
    "def create_windows(location, exp, user, start, end, activity, length, overlap):\n",
    "    \n",
    "    acc_file  = location + '/acc_exp'+ str(exp).zfill(2) + '_user' + str(user).zfill(2) + '.txt'\n",
    "    gyro_file = location + '/gyro_exp'+ str(exp).zfill(2) + '_user' + str(user).zfill(2) + '.txt'\n",
    "\n",
    "    acc_data  = np.loadtxt(acc_file)\n",
    "    gyro_data = np.loadtxt(gyro_file)\n",
    "    \n",
    "    xtrain = []\n",
    "    ytrain = []\n",
    "    \n",
    "    while (start + length <= end) : \n",
    "          \n",
    "        stop = start + length\n",
    "        window = []\n",
    "        \n",
    "        while start != stop :\n",
    "            window.append( [acc_data[start] , gyro_data[start]] )\n",
    "            start += 1\n",
    "        \n",
    "        xtrain.append(window)\n",
    "        ytrain.append(activity)\n",
    "        \n",
    "        start = stop - overlap[activity-1]\n",
    "\n",
    "    return xtrain,ytrain"
   ]
  },
  {
   "cell_type": "code",
   "execution_count": 131,
   "metadata": {},
   "outputs": [],
   "source": [
    "'''\n",
    "빈 배열을 만들고\n",
    "텍스트파일을 로드한 다음\n",
    "create_windows를 실행해서 xtemp, temp에 대입한다.\n",
    "그걸 xdata, ydata에 추가하는 코드임.\n",
    "create_windows(location, exp, user, start, end, activity, length, overlap)\n",
    "'''\n",
    "\n",
    "def prepare_data(location,length = 128,overlap = [64]*12):\n",
    "\n",
    "    xdata = []\n",
    "    ydata = []\n",
    "\n",
    "    labels = np.loadtxt(location+'/labels.txt',dtype = 'uint32')\n",
    "    # labels.txt의 레코드가 1214개인데 exp, user,,, 로 가는 거는 텍스트 파일에 들어있고 length는 default 값이 128, overlap은 default가 [64]*12\n",
    "    for exp,user,activity,start,end in labels :\n",
    "\n",
    "        xtemp , ytemp = create_windows(location, exp, user, start, end+1, activity, length, overlap)\n",
    "        # append는 list 자체를 넣고 extend는 iterable의 각 항목을 넣어준다.\n",
    "        # iterable이 뭐냐면 반복 가능한 객체\n",
    "        xdata.extend(xtemp)\n",
    "        ydata.extend(ytemp)\n",
    "        \n",
    "    return np.array(xdata),np.array(ydata)"
   ]
  },
  {
   "cell_type": "code",
   "execution_count": 132,
   "metadata": {},
   "outputs": [],
   "source": [
    "'''\n",
    "decode 해주는 거.\n",
    "'''\n",
    "\n",
    "def to_categorical(ydata):\n",
    "    \n",
    "    for i in range(len(ydata)):\n",
    "        j = ydata[i].argmax()\n",
    "        for k in range(len(ydata[i])):\n",
    "            ydata[i][k] = (k == j)\n",
    "    return ydata"
   ]
  },
  {
   "cell_type": "code",
   "execution_count": 133,
   "metadata": {},
   "outputs": [],
   "source": [
    "'''\n",
    "one-hot encoding 해주는 거고.\n",
    "'''\n",
    "\n",
    "def one_hot_encoded(ydata):\n",
    "    ydata = OneHotEncoder().fit_transform(ydata.reshape(len(ydata),1))\n",
    "    ydata = np.asarray(ydata.todense())\n",
    "    return ydata"
   ]
  },
  {
   "cell_type": "code",
   "execution_count": 134,
   "metadata": {},
   "outputs": [],
   "source": [
    "'''\n",
    "prepare_data의 매개변수를 살펴보면\n",
    "location, length, overlap인데\n",
    "length는 안 쓰면 default 값이 128이고\n",
    "overlap은 안쓰면 default 값이 64가 12개 들어가는 list다.\n",
    "실행시키고 나면 xtrain은 (13365, 128, 2, 3),\n",
    "ytrain은 (13365, )의 1차원 배열이 나오게 된다.\n",
    "'''\n",
    "\n",
    "xtrain,ytrain = prepare_data('../data/data', 128,[64,64,64,64,64,64,120,120,120,120,120,120])"
   ]
  },
  {
   "cell_type": "code",
   "execution_count": 121,
   "metadata": {
    "collapsed": false
   },
   "outputs": [
    {
     "name": "stdout",
     "output_type": "stream",
     "text": [
      "(13365, 128, 2, 3)\n",
      "4\n",
      "10264320\n"
     ]
    }
   ],
   "source": [
    "print(xtrain.shape)\n",
    "print(xtrain.ndim)\n",
    "print(xtrain.size) # 13365*128*2*3 = 10264320"
   ]
  },
  {
   "cell_type": "code",
   "execution_count": 135,
   "metadata": {},
   "outputs": [],
   "source": [
    "xtrain,ytrain = remove_null(xtrain,ytrain)"
   ]
  },
  {
   "cell_type": "code",
   "execution_count": 136,
   "metadata": {},
   "outputs": [],
   "source": [
    "xtrain,xtest,ytrain,ytest = train_test_split(xtrain,ytrain,test_size = 0.3)\n",
    "xtest,xval,ytest,yval = train_test_split(xtest,ytest,test_size = 0.5)"
   ]
  },
  {
   "cell_type": "code",
   "execution_count": 98,
   "metadata": {},
   "outputs": [
    {
     "data": {
      "text/plain": [
       "((9355, 128, 2, 3),\n",
       " (9355,),\n",
       " (2005, 128, 2, 3),\n",
       " (2005,),\n",
       " (2005, 128, 2, 3),\n",
       " (2005,))"
      ]
     },
     "execution_count": 98,
     "metadata": {},
     "output_type": "execute_result"
    }
   ],
   "source": [
    "xtrain.shape,ytrain.shape,xtest.shape,ytest.shape,xval.shape,yval.shape"
   ]
  },
  {
   "cell_type": "code",
   "execution_count": 137,
   "metadata": {},
   "outputs": [],
   "source": [
    "scaler = get_scaler(xtrain)\n",
    "xtrain = scale_data(xtrain,scaler)\n",
    "xtest  = scale_data(xtest,scaler)\n",
    "xval   = scale_data(xval,scaler)"
   ]
  },
  {
   "cell_type": "code",
   "execution_count": 138,
   "metadata": {},
   "outputs": [],
   "source": [
    "ytrain = one_hot_encoded(ytrain)\n",
    "ytest = one_hot_encoded(ytest)\n",
    "yval = one_hot_encoded(yval)"
   ]
  },
  {
   "cell_type": "code",
   "execution_count": 101,
   "metadata": {},
   "outputs": [
    {
     "data": {
      "text/plain": [
       "((9355, 128, 2, 3),\n",
       " (9355, 12),\n",
       " (2005, 128, 2, 3),\n",
       " (2005, 12),\n",
       " (2005, 128, 2, 3),\n",
       " (2005, 12))"
      ]
     },
     "execution_count": 101,
     "metadata": {},
     "output_type": "execute_result"
    }
   ],
   "source": [
    "xtrain.shape,ytrain.shape,xtest.shape,ytest.shape,xval.shape,yval.shape"
   ]
  }
 ],
 "metadata": {
  "kernelspec": {
   "display_name": "Python 3",
   "language": "python",
   "name": "python3"
  },
  "language_info": {
   "codemirror_mode": {
    "name": "ipython",
    "version": 3
   },
   "file_extension": ".py",
   "mimetype": "text/x-python",
   "name": "python",
   "nbconvert_exporter": "python",
   "pygments_lexer": "ipython3",
   "version": "3.6.9"
  }
 },
 "nbformat": 4,
 "nbformat_minor": 2
}
